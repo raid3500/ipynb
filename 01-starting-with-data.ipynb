{
 "cells": [
  {
   "cell_type": "markdown",
   "metadata": {},
   "source": [
    "# Starting with Data\n",
    "\n",
    "## Working With Pandas DataFrames in Python\n",
    "\n",
    "\n",
    "### Learning Objectives\n",
    "* Explain what a library is, and what libraries are used for.\n",
    "* Load a Python/Pandas library.\n",
    "* Read tabular data from a file into Python using Pandas using `read_csv`.\n",
    "* Learn about the Pandas DataFrame object.\n",
    "* Learn about data slicing and indexing.\n",
    "* Perform mathematical operations on numeric data.\n",
    "* Create simple plots of data.\n",
    "\n",
    "## Presentation of the survey data\n",
    "\n",
    "For this lesson, we will be using the Portal Teaching data, a subset of the data from Ernst et al [Long-term monitoring and experimental manipulation of a Chihuahuan Desert ecosystem near Portal, Arizona, USA](http://www.esapubs.org/archive/ecol/E090/118/default.htm)\n",
    "\n",
    "We are studying the species and weight of animals caught in plots in our study\n",
    "area. The dataset is stored as a `.csv` file: each row holds information for a\n",
    "single animal, and the columns represent:\n",
    "\n",
    "| Column           | Description                        |\n",
    "|------------------|------------------------------------|\n",
    "| record_id       | Unique id for the observation      |\n",
    "| month            | month of observation               |\n",
    "| day              | day of observation                 |\n",
    "| year             | year of observation                |\n",
    "| plot_id           | ID of a particular plot            |\n",
    "| species_id       | 2-letter code                      |\n",
    "| sex              | sex of animal (\"M\", \"F\")           |\n",
    "| hindfoot_length  | length of the hindfoot in mm\n",
    "| weight           | weight of the animal in grams      |\n",
    "\n",
    "\n",
    "### Download lesson data\n",
    "\n",
    "We will be using files from the [Portal Project Teaching Database](https://figshare.com/articles/Portal_Project_Teaching_Database/1314459).\n",
    "\n",
    "This section will use the `surveys.csv` file that can be downloaded here: [https://ndownloader.figshare.com/files/2292172](https://ndownloader.figshare.com/files/2292172)\n",
    "\n"
   ]
  },
  {
   "cell_type": "code",
   "execution_count": null,
   "metadata": {
    "collapsed": true
   },
   "outputs": [],
   "source": [
    "surveys_url = 'https://raw.githubusercontent.com/weecology/portal-teachingdb/master/surveys.csv'"
   ]
  },
  {
   "cell_type": "code",
   "execution_count": null,
   "metadata": {
    "collapsed": true
   },
   "outputs": [],
   "source": [
    "surveys_url= \"POČETAK!!!\""
   ]
  },
  {
   "cell_type": "code",
   "execution_count": null,
   "metadata": {
    "collapsed": true
   },
   "outputs": [],
   "source": []
  },
  {
   "cell_type": "markdown",
   "metadata": {},
   "source": [
    "---\n",
    "\n",
    "\n",
    "## About Libraries\n",
    "A library in Python contains a set of tools (called functions) that perform\n",
    "tasks on our data. Importing a library is like getting a piece of lab equipment\n",
    "out of a storage locker and setting it up on the bench for use in a project.\n",
    "Once a library is set up, it can be used or called to perform many tasks.\n",
    "\n",
    "## Pandas in Python\n",
    "One of the best options for working with tabular data in Python is to use the\n",
    "[Python Data Analysis Library](http://pandas.pydata.org/) (a.k.a. Pandas). The\n",
    "Pandas library provides data structures, produces high quality plots with\n",
    "[matplotlib](http://matplotlib.org/) and integrates nicely with other libraries\n",
    "that use [NumPy](http://www.numpy.org/) (which is another Python library) arrays.\n",
    "\n",
    "Python doesn't load all of the libraries available to it by default. We have to\n",
    "add an `import` statement to our code in order to use library functions. To import\n",
    "a library, we use the syntax `import libraryName`. If we want to give the\n",
    "library a nickname to shorten the command, we can add `as nickNameHere`.  An\n",
    "example of importing the pandas library using the common nickname `pd` is below.\n",
    "\n",
    "\n",
    "```python\n",
    "import pandas as pd\n",
    "```\n",
    "\n",
    "Each time we call a function that's in a library, we use the syntax\n",
    "`LibraryName.FunctionName`. Adding the library name with a `.` before the\n",
    "function name tells Python where to find the function. In the example above, we\n",
    "have imported Pandas as `pd`. This means we don't have to type out `pandas` each\n",
    "time we call a Pandas function.\n",
    "\n",
    "\n",
    "## Lesson Overview\n",
    "\n",
    "For this lesson we will be using the Portal Teaching data.\n",
    "\n",
    "We are studying the species and weight of animals caught in plots in a study\n",
    "area. The data sets are stored in `.csv` (comma separated values) format. Within\n",
    "the `.csv` files, each row holds information for a single animal, and the\n",
    "columns represent: record_id, month, day, year, plot, species, sex, wgt.\n",
    "\n",
    "The first few rows of our first file look like this:\n",
    "\n",
    "```\n",
    "record_id,month,day,year,plot_id,species_id,sex,hindfoot_length,weight\n",
    "1,7,16,1977,2,NL,M,32,\n",
    "2,7,16,1977,3,NL,M,33,\n",
    "3,7,16,1977,2,DM,F,37,\n",
    "4,7,16,1977,7,DM,M,36,\n",
    "5,7,16,1977,3,DM,M,35,\n",
    "6,7,16,1977,1,PF,M,14,\n",
    "7,7,16,1977,2,PE,F,,\n",
    "8,7,16,1977,1,DM,M,37,\n",
    "9,7,16,1977,1,DM,F,34,\n",
    "```\n",
    "\n",
    "### We want to:\n",
    "\n",
    "1. Load that data into memory using Python.\n",
    "2. Calculate the average weight of all individuals sampled, by species.\n",
    "3. Plot the average weights by species and perhaps by plot_id too.\n",
    "\n",
    "We can automate the process above using Python. It's efficient to spend time\n",
    "building the code to perform these tasks because once it's built, we can use it\n",
    "over and over on different datasets that use a similar format. This makes our\n",
    "methods easily reproducible. We can also easily share our code with colleagues\n",
    "and they can replicate the same analysis.\n"
   ]
  },
  {
   "cell_type": "code",
   "execution_count": null,
   "metadata": {
    "collapsed": true
   },
   "outputs": [],
   "source": []
  },
  {
   "cell_type": "code",
   "execution_count": null,
   "metadata": {
    "collapsed": true
   },
   "outputs": [],
   "source": []
  },
  {
   "cell_type": "code",
   "execution_count": null,
   "metadata": {
    "collapsed": true
   },
   "outputs": [],
   "source": []
  },
  {
   "cell_type": "markdown",
   "metadata": {},
   "source": [
    "# Reading CSV Data Using Pandas\n",
    "\n",
    "We will begin by locating and reading our survey data which are in CSV format.\n",
    "We can use Pandas' `read_csv` function to pull the file directly into a\n",
    "[DataFrame](http://pandas.pydata.org/pandas-docs/stable/dsintro.html#dataframe).\n",
    "\n",
    "## So What's a DataFrame?\n",
    "\n",
    "A DataFrame is a 2-dimensional data structure that can store data of different\n",
    "types (including characters, integers, floating point values, factors and more)\n",
    "in columns. It is similar to a spreadsheet or an SQL table or the `data.frame` in\n",
    "R. A DataFrame always has an index (0-based). An index refers to the position of \n",
    "an element in the data structure.\n",
    "\n",
    "First, let's make sure the Python Pandas library is loaded. We will import\n",
    "Pandas using the nickname `pd`.  This is a common convention on the internet,\n",
    "so if you look up Pandas usage, you will often see it this way.\n",
    "\n",
    "```python\n",
    "import pandas as pd\n",
    "```\n",
    "\n",
    "Let's also import the [OS Library](https://docs.python.org/3/library/os.html).\n",
    "This library allows us to make sure we are in the correct working directory. If\n",
    "you are working in IPython Notebook, be sure to start the notebook in the\n",
    "workshop repository.  If you didn't do that you can always set the working\n",
    "directory using the code below.\n",
    "\n",
    "```python\n",
    "import os\n",
    "os.getcwd()\n",
    "# if this directory isn't right, use the command below to set the working directory\n",
    "os.chdir(\"YOURPathHere\")\n",
    "```\n",
    "\n",
    "```python\n",
    "# note that pd.read_csv is used because we imported pandas as pd\n",
    "pd.read_csv(\"surveys.csv\")\n",
    "```\n",
    "\n",
    "The above command yields the **output** below:\n",
    "\n",
    "```\n",
    "record_id  month  day  year  plot_id species_id sex  hindfoot_length  weight\n",
    "0          1      7   16  1977        2         NL   M               32   NaN\n",
    "1          2      7   16  1977        3         NL   M               33   NaN\n",
    "2          3      7   16  1977        2         DM   F               37   NaN\n",
    "3          4      7   16  1977        7         DM   M               36   NaN\n",
    "4          5      7   16  1977        3         DM   M               35   NaN\n",
    "...\n",
    "35544      35545     12   31  2002       15     AH  NaN              NaN  NaN\n",
    "35545      35546     12   31  2002       15     AH  NaN              NaN  NaN\n",
    "35546      35547     12   31  2002       10     RM    F               15   14\n",
    "35547      35548     12   31  2002        7     DO    M               36   51\n",
    "35548      35549     12   31  2002        5     NaN  NaN             NaN  NaN\n",
    "\n",
    "[35549 rows x 9 columns]\n",
    "```\n",
    "\n",
    "We can see that there were 33,549 rows parsed. Each row has 9\n",
    "columns. The first column is the index of the DataFrame. The index is used to\n",
    "identify the position of the data, but it is not an actual column of the DataFrame. \n",
    "It looks like  the `read_csv` function in Pandas  read our file properly. However, \n",
    "we haven't saved any data to memory so we can work with it.We need to assign the \n",
    "DataFrame to a variable. Remember that a variable is a name for a value, such as `x`, \n",
    "or  `data`. We can create a new  object with a variable name by assigning a value to it using `=`.\n",
    "\n",
    "Let's call the imported survey data `surveys_df`:\n",
    "\n",
    "```python\n",
    "surveys_df = pd.read_csv(\"surveys.csv\")\n",
    "```\n",
    "\n",
    "Notice when you assign the imported DataFrame to a variable, Python does not\n",
    "produce any output on the screen. We can print the value of the `surveys_df`\n",
    "object by typing its name into the Python command prompt.\n",
    "\n",
    "```python\n",
    "surveys_df\n",
    "```\n",
    "\n",
    "which prints contents like above\n"
   ]
  },
  {
   "cell_type": "code",
   "execution_count": 24,
   "metadata": {
    "collapsed": false,
    "scrolled": true
   },
   "outputs": [
    {
     "ename": "TypeError",
     "evalue": "'method' object is not subscriptable",
     "output_type": "error",
     "traceback": [
      "\u001b[0;31m---------------------------------------------------------------------------\u001b[0m",
      "\u001b[0;31mTypeError\u001b[0m                                 Traceback (most recent call last)",
      "\u001b[0;32m<ipython-input-24-b961928a23ee>\u001b[0m in \u001b[0;36m<module>\u001b[0;34m()\u001b[0m\n\u001b[1;32m      8\u001b[0m \u001b[0mkolone\u001b[0m\u001b[1;33m=\u001b[0m \u001b[0mdataFrame\u001b[0m\u001b[1;33m.\u001b[0m\u001b[0mcolumns\u001b[0m\u001b[1;33m\u001b[0m\u001b[0m\n\u001b[1;32m      9\u001b[0m \u001b[0mdir\u001b[0m\u001b[1;33m(\u001b[0m\u001b[0mkolone\u001b[0m\u001b[1;33m)\u001b[0m\u001b[1;33m\u001b[0m\u001b[0m\n\u001b[0;32m---> 10\u001b[0;31m \u001b[0mkolone\u001b[0m\u001b[1;33m.\u001b[0m\u001b[0mitem\u001b[0m\u001b[1;33m[\u001b[0m\u001b[1;36m0\u001b[0m\u001b[1;33m]\u001b[0m\u001b[1;33m\u001b[0m\u001b[0m\n\u001b[0m",
      "\u001b[0;31mTypeError\u001b[0m: 'method' object is not subscriptable"
     ]
    }
   ],
   "source": [
    "import pandas as pd\n",
    "surveys_url = 'https://raw.githubusercontent.com/weecology/portal-teachingdb/master/surveys.csv'\n",
    "dataFrame = pd.read_csv(surveys_url)\n",
    "# surveys_df_local = pd.read_csv('../data/surveys-github.csv')\n",
    "type(dataFrame)\n",
    "#surveys_url\n",
    "dir(dataFrame)\n",
    "kolone= dataFrame.columns\n",
    "dir(kolone)\n",
    "kolone.item"
   ]
  },
  {
   "cell_type": "code",
   "execution_count": null,
   "metadata": {
    "collapsed": true
   },
   "outputs": [],
   "source": []
  },
  {
   "cell_type": "code",
   "execution_count": null,
   "metadata": {
    "collapsed": true
   },
   "outputs": [],
   "source": []
  },
  {
   "cell_type": "code",
   "execution_count": null,
   "metadata": {
    "collapsed": true
   },
   "outputs": [],
   "source": []
  },
  {
   "cell_type": "markdown",
   "metadata": {},
   "source": [
    "## Manipulating Our Species Survey Data\n",
    "\n",
    "Now we can start manipulating our data. First, let's check the data type of the\n",
    "data stored in `surveys_df` using the `type` method. The `type` method and\n",
    "`__class__` attribute tell us that `surveys_df` is `<class 'pandas.core.frame.DataFrame'>`.\n",
    "\n",
    "```python\n",
    "type(surveys_df)\n",
    "# this does the same thing as the above!\n",
    "surveys_df.__class__\n",
    "```\n",
    "We can also enter `surveys_df.dtypes` at our prompt to view the data type for each\n",
    "column in our DataFrame. `int64` represents numeric integer values - `int64` cells\n",
    "can not store decimals. `object` represents strings (letters and numbers). `float64`\n",
    "represents numbers with decimals.\n",
    "\n",
    "\tsurveys_df.dtypes\n",
    "\n",
    "which returns:\n",
    "\n",
    "```\n",
    "record_id            int64\n",
    "month                int64\n",
    "day                  int64\n",
    "year                 int64\n",
    "plot_id              int64\n",
    "species_id          object\n",
    "sex                 object\n",
    "hindfoot_length    float64\n",
    "weight             float64\n",
    "dtype: object\n",
    "```\n",
    "\n",
    "We'll talk a bit more about what the different formats mean in a different lesson.\n",
    "\n",
    "### Useful Ways to View DataFrame objects in Python\n",
    "\n",
    "There are multiple methods that can be used to summarize and access the data\n",
    "stored in DataFrames. Let's try out a few. Note that we call the method by using\n",
    "the object name `surveys_df.method`. So `surveys_df.columns` provides an index\n",
    "of all of the column names in our DataFrame.\n",
    "\n",
    "## Challenges\n",
    "\n",
    "Try out the methods below to see what they return.\n",
    "\n",
    "1. `surveys_df.columns`.\n",
    "2. `surveys_df.head()`. Also, what does `surveys_df.head(15)` do?\n",
    "3. `surveys_df.tail()`.\n",
    "4. `surveys_df.shape`. Take note of the output of the shape method. What format does it return the shape of the DataFrame in?\n",
    "\n",
    "HINT: [More on tuples, here](https://docs.python.org/3/tutorial/datastructures.html#tuples-and-sequences).\n",
    "\n"
   ]
  },
  {
   "cell_type": "code",
   "execution_count": null,
   "metadata": {
    "collapsed": false
   },
   "outputs": [],
   "source": []
  },
  {
   "cell_type": "code",
   "execution_count": null,
   "metadata": {
    "collapsed": true
   },
   "outputs": [],
   "source": []
  },
  {
   "cell_type": "code",
   "execution_count": null,
   "metadata": {
    "collapsed": true
   },
   "outputs": [],
   "source": []
  },
  {
   "cell_type": "markdown",
   "metadata": {},
   "source": [
    "\n",
    "## Calculating Statistics From Data In A Pandas DataFrame\n",
    "\n",
    "We've read our data into Python. Next, let's perform some quick summary\n",
    "statistics to learn more about the data that we're working with. We might want\n",
    "to know how many animals were collected in each plot, or how many of each\n",
    "species were caught. We can perform summary stats quickly using groups. But\n",
    "first we need to figure out what we want to group by.\n",
    "\n",
    "Let's begin by exploring our data:\n",
    "\n",
    "```python\n",
    "# Look at the column names\n",
    "surveys_df.columns.values\n",
    "```\n",
    "\n",
    "which **returns**:\n",
    "\n",
    "```\n",
    "array(['record_id', 'month', 'day', 'year', 'plot_id', 'species_id', 'sex',\n",
    "       'hindfoot_length', 'weight'], dtype=object)\n",
    "```\n",
    "\n",
    "Let's get a list of all the species. The `pd.unique` function tells us all of\n",
    "the unique values in the `species_id` column.\n",
    "\n",
    "```python\n",
    "pd.unique(surveys_df['species_id'])\n",
    "```\n",
    "\n",
    "which **returns**:\n",
    "\n",
    "```python\n",
    "array(['NL', 'DM', 'PF', 'PE', 'DS', 'PP', 'SH', 'OT', 'DO', 'OX', 'SS',\n",
    "       'OL', 'RM', nan, 'SA', 'PM', 'AH', 'DX', 'AB', 'CB', 'CM', 'CQ',\n",
    "       'RF', 'PC', 'PG', 'PH', 'PU', 'CV', 'UR', 'UP', 'ZL', 'UL', 'CS',\n",
    "       'SC', 'BA', 'SF', 'RO', 'AS', 'SO', 'PI', 'ST', 'CU', 'SU', 'RX',\n",
    "       'PB', 'PL', 'PX', 'CT', 'US'], dtype=object)\n",
    "```\n",
    "\n",
    "## Challenges\n",
    "\n",
    "1. Create a list of unique plot ID's found in the surveys data. Call it\n",
    "   `plot_names`. How many unique plots are there in the data? How many unique\n",
    "   species are in the data?\n",
    "\n",
    "2. What is the difference between `len(plot_names)` and `plot_names.nunique()`?\n",
    "\n"
   ]
  },
  {
   "cell_type": "code",
   "execution_count": null,
   "metadata": {
    "collapsed": false
   },
   "outputs": [],
   "source": []
  },
  {
   "cell_type": "code",
   "execution_count": null,
   "metadata": {
    "collapsed": false
   },
   "outputs": [],
   "source": []
  },
  {
   "cell_type": "code",
   "execution_count": null,
   "metadata": {
    "collapsed": false
   },
   "outputs": [],
   "source": []
  },
  {
   "cell_type": "code",
   "execution_count": null,
   "metadata": {
    "collapsed": false
   },
   "outputs": [],
   "source": []
  },
  {
   "cell_type": "code",
   "execution_count": null,
   "metadata": {
    "collapsed": false
   },
   "outputs": [],
   "source": []
  },
  {
   "cell_type": "code",
   "execution_count": null,
   "metadata": {
    "collapsed": true
   },
   "outputs": [],
   "source": []
  },
  {
   "cell_type": "code",
   "execution_count": null,
   "metadata": {
    "collapsed": true
   },
   "outputs": [],
   "source": []
  },
  {
   "cell_type": "markdown",
   "metadata": {},
   "source": [
    "# Groups in Pandas\n",
    "\n",
    "We often want to calculate summary statistics grouped by subsets or attributes\n",
    "within fields of our data. For example, we might want to calculate the average\n",
    "weight of all individuals per plot.\n",
    "\n",
    "We can calculate basic statistics for all records in a single column using the\n",
    "syntax below:\n",
    "\n",
    "```python\n",
    "surveys_df['weight'].describe()\n",
    "```\n",
    "gives **output**\n",
    "\n",
    "```python\n",
    "count    32283.000000\n",
    "mean        42.672428\n",
    "std         36.631259\n",
    "min          4.000000\n",
    "25%         20.000000\n",
    "50%         37.000000\n",
    "75%         48.000000\n",
    "max        280.000000\n",
    "Name: weight, dtype: float64\n",
    "```\n",
    "\n",
    "We can also extract one specific metric if we wish:\n",
    "\n",
    "```python\n",
    "surveys_df['weight'].min()\n",
    "surveys_df['weight'].max()\n",
    "surveys_df['weight'].mean()\n",
    "surveys_df['weight'].std()\n",
    "surveys_df['weight'].count()\n",
    "```\n",
    "\n",
    "But if we want to summarize by one or more variables, for example sex, we can\n",
    "use Pandas' `.groupby` method. Once we've created a groupby DataFrame, we\n",
    "can quickly calculate summary statistics by a group of our choice.\n",
    "\n",
    "```python\n",
    "# Group data by sex\n",
    "sorted = surveys_df.groupby('sex')\n",
    "```\n",
    "\n",
    "The Pandas function `describe` will return descriptive stats including: mean,\n",
    "median, max, min, std and count for a particular column in the data. Pandas'\n",
    "`describe` function will only return summary values for columns containing\n",
    "numeric data.\n",
    "\n",
    "```python\n",
    "# summary statistics for all numeric columns by sex\n",
    "sorted.describe()\n",
    "# provide the mean for each numeric column by sex\n",
    "sorted.mean()\n",
    "```\n",
    "\n",
    "`sorted.mean()` **OUTPUT:**\n",
    "\n",
    "```python\n",
    "        record_id     month        day         year    plot_id  \\\n",
    "sex                                                              \n",
    "F    18036.412046  6.583047  16.007138  1990.644997  11.440854   \n",
    "M    17754.835601  6.392668  16.184286  1990.480401  11.098282   \n",
    "\n",
    "     hindfoot_length     weight  \n",
    "sex                              \n",
    "F          28.836780  42.170555  \n",
    "M          29.709578  42.995379  \n",
    "\n",
    "```\n",
    "\n",
    "The `groupby` command is powerful in that it allows us to quickly generate\n",
    "summary stats.\n",
    "\n",
    "# Challenge\n",
    "\n",
    "1. How many recorded individuals are female `F` and how many male `M`\n",
    "2. What happens when you group by two columns using the following syntax and\n",
    "    then grab mean values:\n",
    "\t- `sorted2 = surveys_df.groupby(['plot_id','sex'])`\n",
    "\t- `sorted2.mean()`\n",
    "3. Summarize weight values for each plot in your data. HINT: you can use the\n",
    "   following syntax to only create summary statistics for one column in your data\n",
    "   `by_plot['weight'].describe()`\n",
    "\n",
    "\n",
    "Did you get #3 right? **A Snippet of the Output from challenge 3 looks like:**\n",
    "\n",
    "```\n",
    "\tplot\n",
    "\t1     count    1903.000000\n",
    "\t      mean       51.822911\n",
    "\t      std        38.176670\n",
    "\t      min         4.000000\n",
    "\t      25%        30.000000\n",
    "\t      50%        44.000000\n",
    "\t      75%        53.000000\n",
    "\t      max       231.000000\n",
    "          ...\n",
    "```\n"
   ]
  },
  {
   "cell_type": "code",
   "execution_count": null,
   "metadata": {
    "collapsed": true
   },
   "outputs": [],
   "source": []
  },
  {
   "cell_type": "code",
   "execution_count": null,
   "metadata": {
    "collapsed": true
   },
   "outputs": [],
   "source": []
  },
  {
   "cell_type": "code",
   "execution_count": null,
   "metadata": {
    "collapsed": true
   },
   "outputs": [],
   "source": []
  },
  {
   "cell_type": "code",
   "execution_count": null,
   "metadata": {
    "collapsed": true
   },
   "outputs": [],
   "source": []
  },
  {
   "cell_type": "code",
   "execution_count": null,
   "metadata": {
    "collapsed": true
   },
   "outputs": [],
   "source": []
  },
  {
   "cell_type": "code",
   "execution_count": null,
   "metadata": {
    "collapsed": true
   },
   "outputs": [],
   "source": []
  },
  {
   "cell_type": "code",
   "execution_count": null,
   "metadata": {
    "collapsed": true
   },
   "outputs": [],
   "source": []
  },
  {
   "cell_type": "markdown",
   "metadata": {},
   "source": [
    "## Quickly Creating Summary Counts in Pandas\n",
    "\n",
    "Let's next count the number of samples for each species. We can do this in a few\n",
    "ways, but we'll use `groupby` combined with a `count()` method.\n",
    "\n",
    "\n",
    "```python\n",
    "# count the number of samples by species\n",
    "species_counts = surveys_df.groupby('species_id')['record_id'].count()\n",
    "```\n",
    "\n",
    "Or, we can also count just the rows that have the species \"DO\":\n",
    "\n",
    "```python\n",
    "surveys_df.groupby('species_id')['record_id'].count()['DO']\n",
    "```\n",
    "\n",
    "## Basic Math Functions\n",
    "\n",
    "If we wanted to, we could perform math on an entire column of our data. For\n",
    "example let's multiply all weight values by 2. A more practical use of this might\n",
    "be to normalize the data according to a mean, area, or some other value\n",
    "calculated from our data.\n",
    "\n",
    "\t# multiply all weight values by 2\n",
    "\tsurveys_df['weight']*2\n",
    "\n",
    "\n",
    "## Another Challenge\n",
    "\n",
    "1. What's another way to create a list of species and associated `count` of the\n",
    "   records in the data? Hint: you can perform `count`, `min`, etc functions on\n",
    "   groupby DataFrames in the same way you can perform them on regular\n",
    "   DataFrames.\n"
   ]
  },
  {
   "cell_type": "code",
   "execution_count": null,
   "metadata": {
    "collapsed": true
   },
   "outputs": [],
   "source": []
  },
  {
   "cell_type": "code",
   "execution_count": null,
   "metadata": {
    "collapsed": true
   },
   "outputs": [],
   "source": []
  },
  {
   "cell_type": "code",
   "execution_count": null,
   "metadata": {
    "collapsed": true
   },
   "outputs": [],
   "source": []
  },
  {
   "cell_type": "code",
   "execution_count": null,
   "metadata": {
    "collapsed": true
   },
   "outputs": [],
   "source": []
  },
  {
   "cell_type": "code",
   "execution_count": null,
   "metadata": {
    "collapsed": true
   },
   "outputs": [],
   "source": []
  },
  {
   "cell_type": "markdown",
   "metadata": {},
   "source": [
    "# Quick & Easy Plotting Data Using Pandas\n",
    "\n",
    "We can plot our summary stats using Pandas, too.\n",
    "\n",
    "\t# make sure figures appear inline in Ipython Notebook\n",
    "\t%matplotlib inline\n",
    "\t# create a quick bar chart\n",
    "\tspecies_counts.plot(kind='bar');\n",
    "\n",
    "![Weight by Species Plot](../img/weightBySpecies.png)\n",
    "Weight by species plot\n",
    "\n",
    "We can also look at how many animals were captured in each plot:\n",
    "\n",
    "```python\n",
    "total_count = surveys_df['record_id'].groupby(surveys_df['plot_id']).nunique()\n",
    "# let's plot that too\n",
    "total_count.plot(kind='bar');\n",
    "```\n",
    "\n",
    "# Challenge Activities\n",
    "\n",
    "1. Create a plot of average weight across all species per plot.\n",
    "2. Create a plot of total males versus total females for the entire dataset.\n"
   ]
  },
  {
   "cell_type": "code",
   "execution_count": 95,
   "metadata": {
    "collapsed": true
   },
   "outputs": [],
   "source": [
    "%matplotlib inline"
   ]
  },
  {
   "cell_type": "code",
   "execution_count": 106,
   "metadata": {
    "collapsed": false
   },
   "outputs": [],
   "source": []
  },
  {
   "cell_type": "code",
   "execution_count": null,
   "metadata": {
    "collapsed": true
   },
   "outputs": [],
   "source": []
  },
  {
   "cell_type": "code",
   "execution_count": null,
   "metadata": {
    "collapsed": true
   },
   "outputs": [],
   "source": []
  },
  {
   "cell_type": "code",
   "execution_count": null,
   "metadata": {
    "collapsed": true
   },
   "outputs": [],
   "source": []
  },
  {
   "cell_type": "code",
   "execution_count": null,
   "metadata": {
    "collapsed": true
   },
   "outputs": [],
   "source": []
  },
  {
   "cell_type": "code",
   "execution_count": null,
   "metadata": {
    "collapsed": true
   },
   "outputs": [],
   "source": []
  },
  {
   "cell_type": "code",
   "execution_count": null,
   "metadata": {
    "collapsed": true
   },
   "outputs": [],
   "source": []
  },
  {
   "cell_type": "markdown",
   "metadata": {},
   "source": [
    "# Summary Plotting Challenge\n",
    "\n",
    "Create a stacked bar plot, with weight on the Y axis, and the stacked variable\n",
    "being sex. The plot should show total weight by sex for each plot. Some\n",
    "tips are below to help you solve this challenge:\n",
    "\n",
    "* [For more on Pandas plots, visit this link.](http://pandas.pydata.org/pandas-docs/dev/generated/pandas.core.groupby.DataFrameGroupBy.plot.html)\n",
    "* You can use the code that follows to create a stacked bar plot but the data to stack\n",
    "  need to be in individual columns.  Here's a simple example with some data where\n",
    "  'a', 'b', and 'c' are the groups, and 'one' and 'two' are the subgroups.\n",
    "\n",
    "```\n",
    "d = {'one' : pd.Series([1., 2., 3.], index=['a', 'b', 'c']),'two' : pd.Series([1., 2., 3., 4.], index=['a', 'b', 'c', 'd'])}\n",
    "pd.DataFrame(d)\n",
    "```\n",
    "\n",
    "shows the following data\n",
    "\n",
    "```\n",
    "       one  two\n",
    "   a    1    1\n",
    "   b    2    2\n",
    "   c    3    3\n",
    "   d  NaN    4\n",
    "```\n",
    "\n",
    "We can plot the above with\n",
    "\n",
    "```\n",
    "# plot stacked data so columns 'one' and 'two' are stacked\n",
    "my_df = pd.DataFrame(d)\n",
    "my_df.plot(kind='bar',stacked=True,title=\"The title of my graph\")\n",
    "```\n",
    "\n",
    "![Stacked Bar Plot](../img/stackedBar1.png)\n",
    "\n",
    "* You can use the `.unstack()` method to transform grouped data into columns\n",
    "for each plotting.  Try running `.unstack()` on some DataFrames above and see\n",
    "what it yields.\n",
    "\n",
    "Start by transforming the grouped data (by plot and sex) into an unstacked layout, then create\n",
    "a stacked plot.\n",
    "\n",
    "\n",
    "## Solution to Summary Challenge\n",
    "\n",
    "First we group data by plot and by sex, and then calculate a total for each plot.\n",
    "\n",
    "```python\n",
    "by_plot_sex = surveys_df.groupby(['plot_id','sex'])\n",
    "plot_sex_count = by_plot_sex['weight'].sum()\n",
    "```\n",
    "\n",
    "This calculates the sums of weights for each sex within each plot as a table\n",
    "\n",
    "```\n",
    "plot  sex\n",
    "plot_id  sex\n",
    "1        F      38253\n",
    "         M      59979\n",
    "2        F      50144\n",
    "         M      57250\n",
    "3        F      27251\n",
    "         M      28253\n",
    "4        F      39796\n",
    "         M      49377\n",
    "<other plots removed for brevity>\n",
    "```\n",
    "\n",
    "Below we'll use `.unstack()` on our grouped data to figure out the total weight that each sex contributed to each plot.\n",
    "\n",
    "```python\n",
    "by_plot_sex = surveys_df.groupby(['plot_id','sex'])\n",
    "plot_sex_count = by_plot_sex['weight'].sum()\n",
    "plot_sex_count.unstack()\n",
    "```\n",
    "\n",
    "The `unstack` function above will display the following output:\n",
    "\n",
    "```\n",
    "sex          F      M\n",
    "plot_id              \n",
    "1        38253  59979\n",
    "2        50144  57250\n",
    "3        27251  28253\n",
    "4        39796  49377\n",
    "<other plots removed for brevity>\n",
    "```\n",
    "\n",
    "Now, create a stacked bar plot with that data where the weights for each sex are stacked by plot.\n",
    "\n",
    "Rather than display it as a table, we can plot the above data by stacking the values of each sex as follows:\n",
    "\n",
    "```python\n",
    "by_plot_sex = surveys_df.groupby(['plot_id','sex'])\n",
    "plot_sex_count = by_plot_sex['weight'].sum()\n",
    "spc = plot_sex_count.unstack()\n",
    "s_plot = spc.plot(kind='bar',stacked=True,title=\"Total weight by plot and sex\")\n",
    "s_plot.set_ylabel(\"Weight\")\n",
    "s_plot.set_xlabel(\"Plot\")\n",
    "```\n",
    "\n",
    "![Stacked Bar Plot](../img/stackedBar.png)"
   ]
  },
  {
   "cell_type": "code",
   "execution_count": null,
   "metadata": {
    "collapsed": true
   },
   "outputs": [],
   "source": []
  },
  {
   "cell_type": "code",
   "execution_count": null,
   "metadata": {
    "collapsed": true
   },
   "outputs": [],
   "source": []
  },
  {
   "cell_type": "code",
   "execution_count": null,
   "metadata": {
    "collapsed": true
   },
   "outputs": [],
   "source": []
  },
  {
   "cell_type": "code",
   "execution_count": null,
   "metadata": {
    "collapsed": true
   },
   "outputs": [],
   "source": []
  },
  {
   "cell_type": "code",
   "execution_count": 109,
   "metadata": {
    "collapsed": true
   },
   "outputs": [],
   "source": [
    "# Solutions\n",
    "# surveys_df.groupby('plot_id').describe().weight\n",
    "# surveys_df.dropna().groupby('plot_id').describe().weight\n",
    "\n",
    "\n",
    "# species_counts = surveys_df.groupby('species_id').count()['record_id']"
   ]
  }
 ],
 "metadata": {
  "anaconda-cloud": {},
  "kernelspec": {
   "display_name": "Python [conda root]",
   "language": "python",
   "name": "conda-root-py"
  },
  "language_info": {
   "codemirror_mode": {
    "name": "ipython",
    "version": 3
   },
   "file_extension": ".py",
   "mimetype": "text/x-python",
   "name": "python",
   "nbconvert_exporter": "python",
   "pygments_lexer": "ipython3",
   "version": "3.5.2"
  }
 },
 "nbformat": 4,
 "nbformat_minor": 1
}

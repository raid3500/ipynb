{
 "cells": [
  {
   "cell_type": "markdown",
   "metadata": {},
   "source": [
    "# Indexing, Slicing and Subsetting DataFrames in Python\n",
    "\n",
    "In lesson 01, we read a CSV into a python Pandas DataFrame.  We learned how to\n",
    "save the DataFrame to a named object, how to perform basic math on the data, how\n",
    "to calculate summary statistics and how to create plots of the data. In this\n",
    "lesson, we will explore ways to access different parts of the data using indexing,\n",
    "slicing and subsetting.\n",
    "\n",
    "## Learning Objectives\n",
    "\n",
    "*  Learn about 0-based indexing in Python.\n",
    "*  Learn about numeric vs. label based indexes.\n",
    "*  Learn how to select subsets of data from a DataFrame using Slicing and\n",
    "   Indexing methods.\n",
    "*  Understand what a boolean object is and how it can be used to \"mask\" or\n",
    "   identify particular sets of values within another object.\n",
    "\n",
    "\n",
    "## Making Sure Our Data Are Loaded\n",
    "\n",
    "We will continue to use the surveys dataset that we worked with in the last\n",
    "exercise. Let's reopen it:\n",
    "\n",
    "```python\n",
    "# first make sure pandas is loaded\n",
    "import pandas as pd\n",
    "# read in the survey csv\n",
    "surveys_df = pd.read_csv(\"https://ndownloader.figshare.com/files/2292172\")\n",
    "```\n"
   ]
  },
  {
   "cell_type": "code",
   "execution_count": 11,
   "metadata": {
    "collapsed": false
   },
   "outputs": [],
   "source": [
    "import pandas as pd\n",
    "surveys_df = pd.read_csv(\"https://ndownloader.figshare.com/files/2292172\")\n",
    "\n",
    "# surveys_df[['plot_id', 'species_id']]"
   ]
  },
  {
   "cell_type": "code",
   "execution_count": null,
   "metadata": {
    "collapsed": true
   },
   "outputs": [],
   "source": []
  },
  {
   "cell_type": "code",
   "execution_count": null,
   "metadata": {
    "collapsed": true
   },
   "outputs": [],
   "source": []
  },
  {
   "cell_type": "markdown",
   "metadata": {},
   "source": [
    "# Indexing & Slicing in Python\n",
    "\n",
    "We often want to work with subsets of a **DataFrame** object. There are\n",
    "different ways to accomplish this including: using labels (column headings),\n",
    "numeric ranges or specific x,y index locations.\n",
    "\n",
    "\n",
    "## Selecting Data Using Labels (Column Headings)\n",
    "\n",
    "We use square brackets `[]` to select a subset of an Python object. For example,\n",
    "we can select all of data from a column named `species_id` from the `surveys_df`\n",
    "DataFrame by name:\n",
    "\n",
    "```python\n",
    "surveys_df['species_id']\n",
    "# this syntax, calling the column as an attribute, gives you the same output\n",
    "surveys_df.species_id\n",
    "```\n",
    "\n",
    "We can also create an new object that contains the data within the `species_id`\n",
    "column as follows:\n",
    "\n",
    "```python\n",
    "# create an object named surveys_species that only contains the `species_id` column\n",
    "surveys_species = surveys_df['species_id']\n",
    "```\n",
    "\n",
    "We can pass a list of column names too, as an index to select columns in that\n",
    "order. This is useful when we need to reorganize our data.\n",
    "\n",
    "**NOTE:** If a column name is not contained in the DataFrame, an exception\n",
    "(error) will be raised.\n",
    "\n",
    "```python\n",
    "# select the species and plot columns from the DataFrame\n",
    "surveys_df[['species_id', 'plot_id']]\n",
    "# what happens when you flip the order?\n",
    "surveys_df[['plot_id', 'species_id']]\n",
    "#what happens if you ask for a column that doesn't exist?\n",
    "surveys_df['speciess']\n",
    "```"
   ]
  },
  {
   "cell_type": "code",
   "execution_count": null,
   "metadata": {
    "collapsed": true
   },
   "outputs": [],
   "source": []
  },
  {
   "cell_type": "code",
   "execution_count": null,
   "metadata": {
    "collapsed": true
   },
   "outputs": [],
   "source": []
  },
  {
   "cell_type": "code",
   "execution_count": null,
   "metadata": {
    "collapsed": true
   },
   "outputs": [],
   "source": []
  },
  {
   "cell_type": "markdown",
   "metadata": {},
   "source": [
    "## Extracting Range based Subsets: Slicing\n",
    "\n",
    "**REMINDER**: Python Uses 0-based Indexing\n",
    "\n",
    "Let's remind ourselves that Python uses 0-based\n",
    "indexing. This means that the first element in an object is located at position\n",
    "0. This is different from other tools like R and Matlab that index elements\n",
    "within objects starting at 1.\n",
    "\n",
    "```python\n",
    "# Create a list of numbers:\n",
    "a = [1,2,3,4,5]\n",
    "```\n",
    "\n",
    "![indexing diagram](../img/slicing-indexing.svg)\n",
    "![slicing diagram](../img/slicing-slicing.svg)\n",
    "\n",
    "## Challenges\n",
    "\n",
    "1. What value does the code below return?\n",
    "        a[0]\n",
    "2. How about this:\n",
    "        a[5]\n",
    "3. Or this?\n",
    "        a[len(a)]\n",
    "4. In the example above, calling `a[5]` returns an error. Why is that?\n",
    "\n"
   ]
  },
  {
   "cell_type": "code",
   "execution_count": 17,
   "metadata": {
    "collapsed": false
   },
   "outputs": [
    {
     "data": {
      "text/plain": [
       "[2, 3]"
      ]
     },
     "execution_count": 17,
     "metadata": {},
     "output_type": "execute_result"
    }
   ],
   "source": [
    "a = [1,2,3,4,5]\n",
    "a[1:3]\n",
    "# Obrati pažnju, ide do 3, ali ne i 3!"
   ]
  },
  {
   "cell_type": "code",
   "execution_count": null,
   "metadata": {
    "collapsed": true
   },
   "outputs": [],
   "source": []
  },
  {
   "cell_type": "code",
   "execution_count": null,
   "metadata": {
    "collapsed": true
   },
   "outputs": [],
   "source": []
  },
  {
   "cell_type": "markdown",
   "metadata": {},
   "source": [
    "## Slicing Subsets of Rows in Python\n",
    "\n",
    "Slicing using the `[]` operator selects a set of rows and/or columns from a\n",
    "DataFrame. To slice out a set of rows, you use the following syntax:\n",
    "`data[start:stop]`. When slicing in pandas the start bound is included in the\n",
    "output. The stop bound is one step BEYOND the row you want to select. So if you\n",
    "want to select rows 0, 1 and 2 your code would look like this:\n",
    "\n",
    "```python\n",
    "# select rows 0,1,2 (but not 3)\n",
    "surveys_df[0:3]\n",
    "```\n",
    "\n",
    "The stop bound in Python is different from what you might be used to in\n",
    "languages like Matlab and R.\n",
    "\n",
    "```python\n",
    "# select the first, second and third rows from the surveys variable\n",
    "surveys_df[0:3]\n",
    "# select the first 5 rows (rows 0,1,2,3,4)\n",
    "surveys_df[:5]\n",
    "# select the last element in the list\n",
    "surveys_df[-1:]\n",
    "```\n",
    "\n",
    "We can also reassign values within subsets of our DataFrame. But before we do that, let's make a \n",
    "copy of our DataFrame so as not to modify our original imported data. \n",
    "\n",
    "```python\n",
    "# copy the surveys dataframe so we don't modify the original DataFrame\n",
    "surveys_copy = surveys_df\n",
    "\n",
    "# set the first three rows of data in the DataFrame to 0\n",
    "surveys_copy[0:3] = 0\n",
    "```\n",
    "\n",
    "Next, try the following code: \n",
    "\n",
    "```python\n",
    "surveys_copy.head()\n",
    "surveys_df.head()\n",
    "```\n",
    "What is the difference between the two data frames?\n"
   ]
  },
  {
   "cell_type": "code",
   "execution_count": 59,
   "metadata": {
    "collapsed": false
   },
   "outputs": [
    {
     "data": {
      "text/html": [
       "<div>\n",
       "<table border=\"1\" class=\"dataframe\">\n",
       "  <thead>\n",
       "    <tr style=\"text-align: right;\">\n",
       "      <th></th>\n",
       "      <th>record_id</th>\n",
       "      <th>month</th>\n",
       "      <th>day</th>\n",
       "      <th>year</th>\n",
       "      <th>plot_id</th>\n",
       "      <th>species_id</th>\n",
       "      <th>sex</th>\n",
       "      <th>hindfoot_length</th>\n",
       "      <th>weight</th>\n",
       "    </tr>\n",
       "  </thead>\n",
       "  <tbody>\n",
       "    <tr>\n",
       "      <th>0</th>\n",
       "      <td>1</td>\n",
       "      <td>7</td>\n",
       "      <td>16</td>\n",
       "      <td>1977</td>\n",
       "      <td>2</td>\n",
       "      <td>NL</td>\n",
       "      <td>M</td>\n",
       "      <td>32.0</td>\n",
       "      <td>NaN</td>\n",
       "    </tr>\n",
       "    <tr>\n",
       "      <th>1</th>\n",
       "      <td>2</td>\n",
       "      <td>7</td>\n",
       "      <td>16</td>\n",
       "      <td>1977</td>\n",
       "      <td>3</td>\n",
       "      <td>NL</td>\n",
       "      <td>M</td>\n",
       "      <td>33.0</td>\n",
       "      <td>NaN</td>\n",
       "    </tr>\n",
       "    <tr>\n",
       "      <th>2</th>\n",
       "      <td>3</td>\n",
       "      <td>7</td>\n",
       "      <td>16</td>\n",
       "      <td>1977</td>\n",
       "      <td>2</td>\n",
       "      <td>DM</td>\n",
       "      <td>F</td>\n",
       "      <td>37.0</td>\n",
       "      <td>NaN</td>\n",
       "    </tr>\n",
       "    <tr>\n",
       "      <th>3</th>\n",
       "      <td>4</td>\n",
       "      <td>7</td>\n",
       "      <td>16</td>\n",
       "      <td>1977</td>\n",
       "      <td>7</td>\n",
       "      <td>DM</td>\n",
       "      <td>M</td>\n",
       "      <td>36.0</td>\n",
       "      <td>NaN</td>\n",
       "    </tr>\n",
       "  </tbody>\n",
       "</table>\n",
       "</div>"
      ],
      "text/plain": [
       "   record_id  month  day  year  plot_id species_id sex  hindfoot_length  \\\n",
       "0          1      7   16  1977        2         NL   M             32.0   \n",
       "1          2      7   16  1977        3         NL   M             33.0   \n",
       "2          3      7   16  1977        2         DM   F             37.0   \n",
       "3          4      7   16  1977        7         DM   M             36.0   \n",
       "\n",
       "   weight  \n",
       "0     NaN  \n",
       "1     NaN  \n",
       "2     NaN  \n",
       "3     NaN  "
      ]
     },
     "execution_count": 59,
     "metadata": {},
     "output_type": "execute_result"
    }
   ],
   "source": [
    "import pandas as pd\n",
    "surveys_df = pd.read_csv(\"https://ndownloader.figshare.com/files/2292172\")\n",
    "\n",
    "surveys_df[-1:]\n",
    "surveys_copy = surveys_df.copy()\n",
    "\n",
    "surveys_copy[0:3] = 0\n",
    "\n",
    "surveys_copy.head()\n",
    "# surveys_df.head().iloc[0:3, 1:4]\n",
    "\n",
    "# surveys_df.iloc[0:3, 1:4]\n",
    "# surveys_df.loc[[0, 10], :]\n",
    "surveys_df.loc[0:3, :]\n",
    "# surveys_df.loc[[0, 10], ['species_id', 'plot_id', 'weight']]\n",
    "# surveys_df.loc[[0, 10, 35549], :]\n",
    "# surveys_df.iloc[4, 3]"
   ]
  },
  {
   "cell_type": "code",
   "execution_count": 46,
   "metadata": {
    "collapsed": true
   },
   "outputs": [],
   "source": [
    "# "
   ]
  },
  {
   "cell_type": "code",
   "execution_count": null,
   "metadata": {
    "collapsed": true
   },
   "outputs": [],
   "source": []
  },
  {
   "cell_type": "markdown",
   "metadata": {},
   "source": [
    "## Referencing Objects vs Copying Objects in Python\n",
    "We might have thought that we were creating a fresh copy of the `surveys_df` objects when we \n",
    "used the code `surveys_copy = surveys_df`. However the statement  y = x doesn’t create a copy of our DataFrame. \n",
    "It creates a new variable y that refers to the **same** object x refers to. This means that there is only one object \n",
    "(the DataFrame), and both x and y refer to it. So when we assign the first 3 columns the value of 0 using the \n",
    "`surveys_copy` DataFrame, the `surveys_df` DataFrame is modified too. To create a fresh copy of the `surveys_df`\n",
    "DataFrame we use the syntax y=x.copy(). But before we have to read the surveys_df again because the current version contains the unintentional changes made to the first 3 columns.\n",
    "\n",
    "```python\n",
    "surveys_df = pd.read_csv(\"https://ndownloader.figshare.com/files/2292172\")\n",
    "surveys_copy= surveys_df.copy()\n",
    "\n",
    "```\n",
    "\n",
    "## Slicing Subsets of Rows and Columns in Python\n",
    "\n",
    "We can select specific ranges of our data in both the row and column directions\n",
    "using either label or integer-based indexing.\n",
    "\n",
    "- `loc`: indexing via *labels* or *integers*\n",
    "- `iloc`: indexing via *integers*\n",
    "\n",
    "To select a subset of rows AND columns from our DataFrame, we can use the `iloc`\n",
    "method. For example, we can select month, day and year (columns 2, 3 and 4 if we\n",
    "start counting at 1), like this:\n",
    "\n",
    "```python\n",
    "surveys_df.iloc[0:3, 1:4]\n",
    "```\n",
    "\n",
    "which gives **output**\n",
    "\n",
    "```\n",
    "   month  day  year\n",
    "0      7   16  1977\n",
    "1      7   16  1977\n",
    "2      7   16  1977\n",
    "```\n",
    "\n",
    "Notice that we asked for a slice from 0:3. This yielded 3 rows of data. When you\n",
    "ask for 0:3, you are actually telling python to start at index 0 and select rows\n",
    "0, 1, 2 **up to but not including 3**.\n",
    "\n",
    "Let's next explore some other ways to index and select subsets of data:\n",
    "\n",
    "```python\n",
    "# select all columns for rows of index values 0 and 10\n",
    "surveys_df.loc[[0, 10], :]\n",
    "# what does this do?\n",
    "surveys_df.loc[0, ['species_id', 'plot_id', 'weight']]\n",
    "\n",
    "# What happens when you type the code below?\n",
    "surveys_df.loc[[0, 10, 35549], :]\n",
    "```\n",
    "\n",
    "NOTE: Labels must be found in the DataFrame or you will get a `KeyError`. The\n",
    "start bound and the stop bound are **included**.  When using `loc`, integers\n",
    "*can* also be used, but they refer to the index label and not the position. Thus\n",
    "when you use `loc`, and select 1:4, you will get a different result than using\n",
    "`iloc` to select rows 1:4.\n",
    "\n",
    "We can also select a specific data value according to the specific row and\n",
    "column location within the data frame using the `iloc` function:\n",
    "`dat.iloc[row,column]`.\n",
    "\n",
    "\n",
    "```python\n",
    "surveys_df.iloc[2,6]\n",
    "```\n",
    "\n",
    "which gives **output**\n",
    "\n",
    "```\n",
    "'F'\n",
    "```\n",
    "\n",
    "Remember that Python indexing begins at 0. So, the index location [2, 6] selects\n",
    "the element that is 3 rows down and 7 columns over in the DataFrame.\n",
    "\n",
    "## Challenge Activities\n",
    "\n",
    "1. What happens when you type:\n",
    "\n",
    "```python\n",
    "surveys_df[0:3]\n",
    "surveys_df[:5]\n",
    "surveys_df[-1:]\n",
    "```\n",
    "\n",
    "2. What happens when you call:\n",
    "    - `dat.iloc[0:4, 1:4]`\n",
    "    - `dat.loc[0:4, 1:4]`\n",
    "    - How are the two commands different?\n"
   ]
  },
  {
   "cell_type": "code",
   "execution_count": 77,
   "metadata": {
    "collapsed": false
   },
   "outputs": [
    {
     "data": {
      "text/html": [
       "<div>\n",
       "<table border=\"1\" class=\"dataframe\">\n",
       "  <thead>\n",
       "    <tr style=\"text-align: right;\">\n",
       "      <th></th>\n",
       "      <th>record_id</th>\n",
       "      <th>month</th>\n",
       "      <th>day</th>\n",
       "      <th>year</th>\n",
       "      <th>plot_id</th>\n",
       "      <th>species_id</th>\n",
       "      <th>sex</th>\n",
       "      <th>hindfoot_length</th>\n",
       "      <th>weight</th>\n",
       "    </tr>\n",
       "  </thead>\n",
       "  <tbody>\n",
       "    <tr>\n",
       "      <th>2</th>\n",
       "      <td>3</td>\n",
       "      <td>7</td>\n",
       "      <td>16</td>\n",
       "      <td>1977</td>\n",
       "      <td>2</td>\n",
       "      <td>DM</td>\n",
       "      <td>F</td>\n",
       "      <td>37.0</td>\n",
       "      <td>NaN</td>\n",
       "    </tr>\n",
       "    <tr>\n",
       "      <th>6</th>\n",
       "      <td>7</td>\n",
       "      <td>7</td>\n",
       "      <td>16</td>\n",
       "      <td>1977</td>\n",
       "      <td>2</td>\n",
       "      <td>PE</td>\n",
       "      <td>F</td>\n",
       "      <td>NaN</td>\n",
       "      <td>NaN</td>\n",
       "    </tr>\n",
       "    <tr>\n",
       "      <th>8</th>\n",
       "      <td>9</td>\n",
       "      <td>7</td>\n",
       "      <td>16</td>\n",
       "      <td>1977</td>\n",
       "      <td>1</td>\n",
       "      <td>DM</td>\n",
       "      <td>F</td>\n",
       "      <td>34.0</td>\n",
       "      <td>NaN</td>\n",
       "    </tr>\n",
       "    <tr>\n",
       "      <th>9</th>\n",
       "      <td>10</td>\n",
       "      <td>7</td>\n",
       "      <td>16</td>\n",
       "      <td>1977</td>\n",
       "      <td>6</td>\n",
       "      <td>PF</td>\n",
       "      <td>F</td>\n",
       "      <td>20.0</td>\n",
       "      <td>NaN</td>\n",
       "    </tr>\n",
       "    <tr>\n",
       "      <th>10</th>\n",
       "      <td>11</td>\n",
       "      <td>7</td>\n",
       "      <td>16</td>\n",
       "      <td>1977</td>\n",
       "      <td>5</td>\n",
       "      <td>DS</td>\n",
       "      <td>F</td>\n",
       "      <td>53.0</td>\n",
       "      <td>NaN</td>\n",
       "    </tr>\n",
       "  </tbody>\n",
       "</table>\n",
       "</div>"
      ],
      "text/plain": [
       "    record_id  month  day  year  plot_id species_id sex  hindfoot_length  \\\n",
       "2           3      7   16  1977        2         DM   F             37.0   \n",
       "6           7      7   16  1977        2         PE   F              NaN   \n",
       "8           9      7   16  1977        1         DM   F             34.0   \n",
       "9          10      7   16  1977        6         PF   F             20.0   \n",
       "10         11      7   16  1977        5         DS   F             53.0   \n",
       "\n",
       "    weight  \n",
       "2      NaN  \n",
       "6      NaN  \n",
       "8      NaN  \n",
       "9      NaN  \n",
       "10     NaN  "
      ]
     },
     "execution_count": 77,
     "metadata": {},
     "output_type": "execute_result"
    }
   ],
   "source": [
    "import pandas as pd\n",
    "surveys_df = pd.read_csv(\"https://ndownloader.figshare.com/files/2292172\")\n",
    "\n",
    "surveys_df[surveys_df.sex == 'F'].head()"
   ]
  },
  {
   "cell_type": "code",
   "execution_count": null,
   "metadata": {
    "collapsed": true
   },
   "outputs": [],
   "source": []
  },
  {
   "cell_type": "code",
   "execution_count": null,
   "metadata": {
    "collapsed": true
   },
   "outputs": [],
   "source": []
  },
  {
   "cell_type": "code",
   "execution_count": null,
   "metadata": {
    "collapsed": true
   },
   "outputs": [],
   "source": []
  },
  {
   "cell_type": "markdown",
   "metadata": {},
   "source": [
    "## Subsetting Data Using Criteria\n",
    "\n",
    "We can also select a subset of our data using criteria. For example, we can\n",
    "select all rows that have a year value of 2002.\n",
    "\n",
    "```python\n",
    "surveys_df[surveys_df.year == 2002]\n",
    "```\n",
    "\n",
    "Which produces the following output:\n",
    "\n",
    "```python\n",
    "record_id  month  day  year  plot_id species_id  sex  hindfoot_length  weight\n",
    "33320      33321      1   12  2002        1         DM    M     38      44 \n",
    "33321      33322      1   12  2002        1         DO    M     37      58\n",
    "33322      33323      1   12  2002        1         PB    M     28      45\n",
    "33323      33324      1   12  2002        1         AB  NaN    NaN     NaN\n",
    "33324      33325      1   12  2002        1         DO    M     35      29\n",
    "...\n",
    "35544      35545     12   31  2002       15         AH  NaN    NaN     NaN\n",
    "35545      35546     12   31  2002       15         AH  NaN    NaN     NaN\n",
    "35546      35547     12   31  2002       10         RM    F     15      14\n",
    "35547      35548     12   31  2002        7         DO    M     36      51\n",
    "35548      35549     12   31  2002        5        NaN  NaN    NaN     NaN\n",
    "\n",
    "[2229 rows x 9 columns]\n",
    "```\n",
    "\n",
    "Or we can select all rows that do not contain the year 2002.\n",
    "\n",
    "```python\n",
    "surveys_df[surveys_df.year != 2002]\n",
    "```\n",
    "\n",
    "We can define sets of criteria too:\n",
    "\n",
    "```python\n",
    "surveys_df[(surveys_df.year >= 1980) & (surveys_df.year <= 1985)]\n",
    "```\n",
    "\n",
    "# Python Syntax Cheat Sheet\n",
    "\n",
    "Use can use the syntax below when querying data from a DataFrame. Experiment\n",
    "with selecting various subsets of the \"surveys\" data.\n",
    "\n",
    "* Equals: `==`\n",
    "* Not equals: `!=`\n",
    "* Greater than, less than: `>` or `<`\n",
    "* Greater than or equal to `>=`\n",
    "* Less than or equal to `<=`\n",
    "\n",
    "\n",
    "## Challenge Activities\n",
    "\n",
    "1. Select a subset of rows in the `surveys_df` DataFrame that contain data from\n",
    "   the year 1999 and that contain weight values less than or equal to 8. How\n",
    "   many columns did you end up with? What did your neighbor get?\n",
    "2. You can use the `isin` command in python to query a DataFrame based upon a\n",
    "   list of values as follows:\n",
    "   `surveys_df[surveys_df['species_id'].isin([listGoesHere])]`. Use the `isin` function\n",
    "   to find all plots that contain particular species in\n",
    "   the surveys DataFrame. How many records contain these values?\n",
    "3. Experiment with other queries. Create a query that finds all rows with a weight value > or equal to 0.\n",
    "4. The `~` symbol in Python can be used to return the OPPOSITE of the selection that you specify in python. \n",
    "It is equivalent to **is not in**. Write a query that selects all rows that are NOT equal to 'M' or 'F' in the surveys\n",
    "data."
   ]
  },
  {
   "cell_type": "code",
   "execution_count": 93,
   "metadata": {
    "collapsed": false
   },
   "outputs": [],
   "source": [
    "import pandas as pd\n",
    "surveys_df = pd.read_csv(\"https://ndownloader.figshare.com/files/2292172\")\n",
    "\n",
    "# surveys_df[surveys_df['species_id'].isin(['NL', 'PE'])]\n",
    "# surveys_df[(surveys_df.species_id == 'NL') | (surveys_df.species_id == 'PE')]\n",
    "# surveys_df[~(surveys_df.sex == 'M')]"
   ]
  },
  {
   "cell_type": "code",
   "execution_count": null,
   "metadata": {
    "collapsed": true
   },
   "outputs": [],
   "source": []
  },
  {
   "cell_type": "code",
   "execution_count": null,
   "metadata": {
    "collapsed": true
   },
   "outputs": [],
   "source": []
  },
  {
   "cell_type": "code",
   "execution_count": null,
   "metadata": {
    "collapsed": true
   },
   "outputs": [],
   "source": []
  },
  {
   "cell_type": "markdown",
   "metadata": {},
   "source": [
    "# Using Masks\n",
    "\n",
    "A mask can be useful to locate where a particular subset of values exist or\n",
    "don't exist - for example,  NaN, or \"Not a Number\" values. To understand masks,\n",
    "we also need to understand `BOOLEAN` objects in python.\n",
    "\n",
    "Boolean values include `true` or `false`. So for example\n",
    "\n",
    "```python\n",
    "# set x to 5\n",
    "x = 5\n",
    "# what does the code below return?\n",
    "x > 5\n",
    "# how about this?\n",
    "x == 5\n",
    "```\n",
    "\n",
    "When we ask python what the value of `x > 5` is, we get `False`. This is because x\n",
    "is not greater than 5 it is equal to 5. To create a boolean mask, you first create the\n",
    "True / False criteria (e.g. values > 5 = True). Python will then assess each\n",
    "value in the object to determine whether the value meets the criteria (True) or\n",
    "not (False). Python creates an output object that is the same shape as\n",
    "the original object, but with a True or False value for each index location.\n",
    "\n",
    "Let's try this out. Let's identify all locations in the survey data that have\n",
    "null (missing or NaN) data values. We can use the `isnull` method to do this.\n",
    "Each cell with a null value will be assigned a value of  `True` in the new\n",
    "boolean object.\n",
    "\n",
    "\n",
    "```python\n",
    "pd.isnull(surveys_df)\n",
    "```\n",
    "\n",
    "A snippet of the output is below:\n",
    "\n",
    "```python\n",
    "      record_id  month    day   year plot_id species_id    sex  hindfoot_length weight\n",
    "0         False  False  False  False   False      False  False   False      True\n",
    "1         False  False  False  False   False      False  False   False      True\n",
    "2         False  False  False  False   False      False  False   False      True\n",
    "3         False  False  False  False   False      False  False   False      True\n",
    "4         False  False  False  False   False      False  False   False      True\n",
    "\n",
    "[35549 rows x 9 columns]\n",
    "```\n",
    "\n",
    "To select the rows where there are null values,  we can use \n",
    "the mask as an index to subset our data as follows:\n",
    "\n",
    "```python\n",
    "#To select just the rows with NaN values, we can use the .any method\n",
    "surveys_df[pd.isnull(surveys_df).any(axis=1)]\n",
    "```\n",
    "\n",
    "Note that there are many null or NaN values in the `weight` column of our DataFrame.\n",
    "We will explore different ways of dealing with these in Lesson 03.\n",
    "\n",
    "We can run `isnull` on a particular column too. What does the code below do?\n",
    "\n",
    "```python\n",
    "# what does this do?\n",
    "empty_weights = surveys_df[pd.isnull(surveys_df).any(axis=1)]['weight']\n",
    "```\n",
    "\n",
    "Let's take a minute to look at the statement above. We are using the Boolean\n",
    "object as an index. We are asking python to select rows that have a `NaN` value\n",
    "for weight.\n",
    "\n",
    "\n",
    "# Challenges\n",
    "\n",
    "1. Create a new DataFrame that only contains observations with sex values that\n",
    "   are **not** female or male. Assign each sex value in the new DataFrame to a\n",
    "   new value of 'x'. Determine the number of null values in the subset.\n",
    "2. Create a new DataFrame that contains only observations that are of sex male\n",
    "   or female and where weight values are greater than 0. Create a stacked bar\n",
    "   plot of average weight by plot with male vs female values stacked for each\n",
    "   plot.\n"
   ]
  },
  {
   "cell_type": "code",
   "execution_count": 98,
   "metadata": {
    "collapsed": false
   },
   "outputs": [
    {
     "name": "stderr",
     "output_type": "stream",
     "text": [
      "C:\\Users\\Milos\\Anaconda3\\lib\\site-packages\\ipykernel\\__main__.py:10: SettingWithCopyWarning: \n",
      "A value is trying to be set on a copy of a slice from a DataFrame.\n",
      "Try using .loc[row_indexer,col_indexer] = value instead\n",
      "\n",
      "See the caveats in the documentation: http://pandas.pydata.org/pandas-docs/stable/indexing.html#indexing-view-versus-copy\n"
     ]
    }
   ],
   "source": [
    "import pandas as pd\n",
    "%matplotlib inline\n",
    "surveys_df = pd.read_csv(\"https://ndownloader.figshare.com/files/2292172\")\n",
    "\n",
    "# pd.isnull(surveys_df)\n",
    "\n",
    "# surveys_df[pd.isnull(surveys_df).any(axis=1)]\n",
    "# surveys_df[pd.isnull(surveys_df).any(axis=1)]['weight']\n",
    "\n",
    "noSEX= surveys_df[(surveys_df.sex != 'M') & (surveys_df.sex != 'F')]\n",
    "noSEX['sex']= 'x'\n"
   ]
  },
  {
   "cell_type": "code",
   "execution_count": 121,
   "metadata": {
    "collapsed": false
   },
   "outputs": [
    {
     "data": {
      "text/plain": [
       "<matplotlib.axes._subplots.AxesSubplot at 0xeb49f98>"
      ]
     },
     "execution_count": 121,
     "metadata": {},
     "output_type": "execute_result"
    },
    {
     "data": {
      "image/png": "[encoded data removed]",
      "text/plain": [
       "<matplotlib.figure.Figure at 0xeb23e48>"
      ]
     },
     "metadata": {},
     "output_type": "display_data"
    }
   ],
   "source": [
    "import pandas as pd\n",
    "%matplotlib inline\n",
    "surveys_df = pd.read_csv(\"https://ndownloader.figshare.com/files/2292172\")\n",
    "\n",
    "# filter1= surveys_df[pd.isnull(surveys_df.weight)]]\n",
    "noSEX= surveys_df[((surveys_df.sex == 'M') | (surveys_df.sex == 'F') & surveys_df.weight > 0)]\n",
    "sexy= noSEX.groupby(['plot_id', 'sex']).median()['weight'].unstack()\n",
    "\n",
    "grafikon = sexy.plot(kind='bar',stacked=True,title=\"Kraj 2\")\n",
    "grafikon"
   ]
  },
  {
   "cell_type": "code",
   "execution_count": null,
   "metadata": {
    "collapsed": true
   },
   "outputs": [],
   "source": []
  }
 ],
 "metadata": {
  "anaconda-cloud": {},
  "kernelspec": {
   "display_name": "Python [conda root]",
   "language": "python",
   "name": "conda-root-py"
  },
  "language_info": {
   "codemirror_mode": {
    "name": "ipython",
    "version": 3
   },
   "file_extension": ".py",
   "mimetype": "text/x-python",
   "name": "python",
   "nbconvert_exporter": "python",
   "pygments_lexer": "ipython3",
   "version": "3.5.2"
  }
 },
 "nbformat": 4,
 "nbformat_minor": 1
}
